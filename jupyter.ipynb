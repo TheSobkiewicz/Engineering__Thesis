{
 "cells": [
  {
   "cell_type": "code",
   "execution_count": 1,
   "metadata": {},
   "outputs": [
    {
     "name": "stdout",
     "output_type": "stream",
     "text": [
      ":: WARNING: setvars.sh has already been run. Skipping re-execution.\n",
      "   To force a re-execution of setvars.sh, use the '--force' option.\n",
      "   Using '--force' can result in excessive use of your environment variables.\n"
     ]
    }
   ],
   "source": [
    "! source /opt/intel/oneapi/setvars.sh"
   ]
  },
  {
   "cell_type": "markdown",
   "metadata": {},
   "source": [
    "# BUILDING"
   ]
  },
  {
   "cell_type": "markdown",
   "metadata": {},
   "source": [
    "## for cpu (uncomment cpu selector)"
   ]
  },
  {
   "cell_type": "code",
   "execution_count": 30,
   "metadata": {},
   "outputs": [
    {
     "name": "stdout",
     "output_type": "stream",
     "text": [
      "mkdir -p build\n",
      "dpcpp -std=c++17 -fintelfpga -DFPGA_EMULATOR -I include -I libs/json/single_include src/Accumulator.cpp -c -o build/Accumulator.o -Wall -Wextra\n",
      "In file included from src/Accumulator.cpp:8:\n",
      "\u001b[1minclude/HelixSolver/Accumulator.h:33:25: \u001b[0m\u001b[0;1;35mwarning: \u001b[0m\u001b[1mprivate field 'm_config' is not used [-Wunused-private-field]\u001b[0m\n",
      "        nlohmann::json &m_config;\n",
      "\u001b[0;1;32m                        ^\n",
      "\u001b[0m1 warning generated.\n",
      "In file included from src/Accumulator.cpp:8:\n",
      "\u001b[1minclude/HelixSolver/Accumulator.h:33:25: \u001b[0m\u001b[0;1;35mwarning: \u001b[0m\u001b[1mprivate field 'm_config' is not used [-Wunused-private-field]\u001b[0m\n",
      "        nlohmann::json &m_config;\n",
      "\u001b[0;1;32m                        ^\n",
      "\u001b[0m1 warning generated.\n",
      "In file included from src/Accumulator.cpp:8:\n",
      "\u001b[1minclude/HelixSolver/Accumulator.h:33:25: \u001b[0m\u001b[0;1;35mwarning: \u001b[0m\u001b[1mprivate field 'm_config' is not used [-Wunused-private-field]\u001b[0m\n",
      "        nlohmann::json &m_config;\n",
      "\u001b[0;1;32m                        ^\n",
      "\u001b[0m1 warning generated.\n",
      "mkdir -p bin\n",
      "dpcpp -std=c++17 -fintelfpga -DFPGA_EMULATOR -lboost_program_options build/Event.o build/Accumulator.o build/Application.o build/TrackFindingAlgorithm.o build/AccumulatorHelper.o build/main.o -o bin/HelixSolver.out\n",
      "./bin/HelixSolver.out config.json\n",
      "Platform: Intel(R) FPGA Emulation Platform for OpenCL(TM)\n",
      "Device: Intel(R) FPGA Emulation Device\n",
      "0 0 0 0 0 0 0 0 0 0 \n",
      "0 0 0 0 0 0 0 0 0 0 \n",
      "0 0 0 0 0 0 0 0 0 0 \n",
      "0 0 0 0 0 0 0 0 0 0 \n",
      "0 0 0 0 0 0 0 0 0 0 \n",
      "0 0 0 0 0 0 0 0 0 0 \n",
      "0 0 0 0 0 0 0 0 0 0 \n",
      "0 0 0 0 0 0 0 0 0 0 \n",
      "0 0 0 0 0 0 0 0 0 0 \n",
      "0 0 0 0 0 0 0 0 0 0 \n",
      "0 0 0 0 0 0 0 0 0 0 \n",
      "0 0 0 0 0 0 0 0 0 0 \n",
      "0 0 0 0 0 0 0 0 0 0 \n",
      "0 0 0 0 0 0 0 0 0 0 \n",
      "0 0 0 0 0 0 0 0 0 0 \n",
      "0 0 0 0 0 0 0 0 0 0 \n",
      "0 0 0 0 0 0 0 0 0 0 \n",
      "0 0 0 0 0 0 1 1 1 1 \n",
      "3 3 3 3 3 3 3 2 2 2 \n",
      "0 0 0 0 0 0 0 0 0 0 \n",
      "0 0 0 0 0 0 0 0 0 0 \n",
      "0 0 0 0 0 0 0 0 0 0 \n",
      "0 0 0 0 0 0 0 0 0 0 \n",
      "0 0 0 0 0 0 0 0 0 0 \n",
      "0 0 0 0 0 0 0 0 0 0 \n",
      "0 0 0 0 0 0 0 0 0 0 \n",
      "0 0 0 0 0 0 0 0 0 0 \n",
      "0 0 0 0 0 0 0 0 0 0 \n",
      "0 0 0 0 0 0 0 0 0 0 \n",
      "0 0 0 0 0 0 0 0 0 0 \n"
     ]
    }
   ],
   "source": [
    "! make run"
   ]
  },
  {
   "cell_type": "code",
   "execution_count": 31,
   "metadata": {},
   "outputs": [
    {
     "name": "stdout",
     "output_type": "stream",
     "text": [
      "mkdir -p build\n",
      "dpcpp -std=c++17 -fintelfpga -DFPGA_EMULATOR -I include -I libs/json/single_include src/TrackFindingAlgorithm.cpp -c -o build/TrackFindingAlgorithm.o -Wall -Wextra\n",
      "mkdir -p bin\n",
      "dpcpp -std=c++17 -fintelfpga -DFPGA_EMULATOR -lboost_program_options build/Event.o build/Accumulator.o build/Application.o build/TrackFindingAlgorithm.o build/AccumulatorHelper.o build/main.o -o bin/HelixSolver.out\n",
      "./bin/HelixSolver.out config.json\n",
      "0 0 0 0 0 0 0 0 0 0 \n",
      "0 0 0 0 0 0 0 0 0 0 \n",
      "0 0 0 0 0 0 0 0 0 0 \n",
      "0 0 0 0 0 0 0 0 0 0 \n",
      "0 0 0 0 0 0 0 0 0 0 \n",
      "0 0 0 0 0 0 0 0 0 0 \n",
      "0 0 0 0 0 0 0 0 0 0 \n",
      "0 0 0 0 0 0 0 0 0 0 \n",
      "0 0 0 0 0 0 0 0 0 0 \n",
      "0 0 0 0 0 0 0 0 0 0 \n",
      "0 0 0 0 0 0 0 0 0 0 \n",
      "0 0 0 0 0 0 0 0 0 0 \n",
      "0 0 0 0 0 0 0 0 0 0 \n",
      "0 0 0 0 0 0 0 0 0 0 \n",
      "0 0 0 0 0 0 0 0 0 0 \n",
      "0 0 0 0 0 0 0 0 0 0 \n",
      "0 0 0 0 0 0 0 0 0 0 \n",
      "0 0 0 0 0 0 1 1 1 1 \n",
      "3 3 3 3 3 3 3 2 2 2 \n",
      "0 0 0 0 0 0 0 0 0 0 \n",
      "0 0 0 0 0 0 0 0 0 0 \n",
      "0 0 0 0 0 0 0 0 0 0 \n",
      "0 0 0 0 0 0 0 0 0 0 \n",
      "0 0 0 0 0 0 0 0 0 0 \n",
      "0 0 0 0 0 0 0 0 0 0 \n",
      "0 0 0 0 0 0 0 0 0 0 \n",
      "0 0 0 0 0 0 0 0 0 0 \n",
      "0 0 0 0 0 0 0 0 0 0 \n",
      "0 0 0 0 0 0 0 0 0 0 \n",
      "0 0 0 0 0 0 0 0 0 0 \n"
     ]
    }
   ],
   "source": [
    "! make run"
   ]
  },
  {
   "cell_type": "markdown",
   "metadata": {},
   "source": [
    "## for fpga emulator (uncomment fpga emulator selector)"
   ]
  },
  {
   "cell_type": "code",
   "execution_count": 5,
   "metadata": {},
   "outputs": [
    {
     "name": "stdout",
     "output_type": "stream",
     "text": [
      "Intel(R) oneAPI DPC++ Compiler 2021.2.0 (2021.2.0.20210317)\n",
      "Target: x86_64-unknown-linux-gnu\n",
      "Thread model: posix\n",
      "InstalledDir: /glob/development-tools/versions/oneapi/2021.2/inteloneapi/compiler/2021.2.0/linux/bin\n",
      "Found candidate GCC installation: /usr/lib/gcc/x86_64-linux-gnu/7\n",
      "Found candidate GCC installation: /usr/lib/gcc/x86_64-linux-gnu/7.4.0\n",
      "Found candidate GCC installation: /usr/lib/gcc/x86_64-linux-gnu/8\n",
      "Selected GCC installation: /usr/lib/gcc/x86_64-linux-gnu/7.4.0\n",
      "Candidate multilib: .;@m64\n",
      "Selected multilib: .;@m64\n",
      " \"/glob/development-tools/versions/oneapi/2021.2/inteloneapi/compiler/2021.2.0/linux/bin/clang++\" -cc1 -triple spir64_fpga-unknown-unknown-sycldevice -fsycl -fsycl-is-device -fdeclare-spirv-builtins -fno-sycl-early-optimizations -aux-triple x86_64-unknown-linux-gnu -Wno-sycl-strict -sycl-std=2020 -emit-llvm-bc -emit-llvm-uselists -disable-free -disable-llvm-verifier -discard-value-names -main-file-name hough_transform.cpp -mrelocation-model static -fveclib=SVML -mframe-pointer=all -menable-no-infs -menable-no-nans -menable-unsafe-fp-math -fno-signed-zeros -mreassociate -freciprocal-math -fdenormal-fp-math=preserve-sign,preserve-sign -ffp-contract=fast -fno-rounding-math -ffast-math -ffinite-math-only -fno-verbose-asm -mconstructor-aliases -aux-target-cpu x86-64 -fno-split-dwarf-inlining -debug-info-kind=limited -dwarf-version=4 -debugger-tuning=gdb -v -resource-dir /glob/development-tools/versions/oneapi/2021.2/inteloneapi/compiler/2021.2.0/linux/lib/clang/12.0.0 -dependency-file /home/u60374/tmp/hough_transform-4ce8e4.d -MT hough_transform.o -internal-isystem /glob/development-tools/versions/oneapi/2021.2/inteloneapi/compiler/2021.2.0/linux/bin/../include/sycl -I/glob/development-tools/versions/oneapi/2021.2/inteloneapi/vpl/2021.2.2/include -I/glob/development-tools/versions/oneapi/2021.2/inteloneapi/tbb/2021.2.0/env/../include -I/glob/development-tools/versions/oneapi/2021.2/inteloneapi/mpi/2021.2.0//include -I/glob/development-tools/versions/oneapi/2021.2/inteloneapi/mkl/latest/include -I/glob/development-tools/versions/oneapi/2021.2/inteloneapi/ipp/2021.2.0/include -I/glob/development-tools/versions/oneapi/2021.2/inteloneapi/ippcp/2021.2.0/include -I/glob/development-tools/versions/oneapi/2021.2/inteloneapi/ipp/2021.2.0/include -I/glob/development-tools/versions/oneapi/2021.2/inteloneapi/dpl/2021.2.0/linux/include -I/glob/development-tools/versions/oneapi/2021.2/inteloneapi/dpcpp-ct/2021.2.0/include -I/glob/development-tools/versions/oneapi/2021.2/inteloneapi/dnnl/2021.2.0/cpu_dpcpp_gpu_dpcpp/lib -I/glob/development-tools/versions/oneapi/2021.2/inteloneapi/dev-utilities/2021.2.0/include -I/glob/development-tools/versions/oneapi/2021.2/inteloneapi/dal/2021.2.0/include -I/glob/development-tools/versions/oneapi/2021.2/inteloneapi/compiler/2021.2.0/linux/include -I/glob/development-tools/versions/oneapi/2021.2/inteloneapi/ccl/2021.2.0/include/cpu_gpu_dpcpp -I/glob/development-tools/versions/oneapi/2021.2/inteloneapi/vpl/2021.2.2/include -I/glob/development-tools/versions/oneapi/2021.2/inteloneapi/tbb/2021.2.0/env/../include -I/glob/development-tools/versions/oneapi/2021.2/inteloneapi/mpi/2021.2.0//include -I/glob/development-tools/versions/oneapi/2021.2/inteloneapi/mkl/latest/include -I/glob/development-tools/versions/oneapi/2021.2/inteloneapi/ipp/2021.2.0/include -I/glob/development-tools/versions/oneapi/2021.2/inteloneapi/ippcp/2021.2.0/include -I/glob/development-tools/versions/oneapi/2021.2/inteloneapi/ipp/2021.2.0/include -I/glob/development-tools/versions/oneapi/2021.2/inteloneapi/dpl/2021.2.0/linux/include -I/glob/development-tools/versions/oneapi/2021.2/inteloneapi/dpcpp-ct/2021.2.0/include -I/glob/development-tools/versions/oneapi/2021.2/inteloneapi/dnnl/2021.2.0/cpu_dpcpp_gpu_dpcpp/lib -I/glob/development-tools/versions/oneapi/2021.2/inteloneapi/dev-utilities/2021.2.0/include -I/glob/development-tools/versions/oneapi/2021.2/inteloneapi/dal/2021.2.0/include -I/glob/development-tools/versions/oneapi/2021.2/inteloneapi/compiler/2021.2.0/linux/include -I/glob/development-tools/versions/oneapi/2021.2/inteloneapi/ccl/2021.2.0/include/cpu_gpu_dpcpp -cxx-isystem /glob/development-tools/versions/oneapi/2021.2/inteloneapi/clck/2021.2.0/include -cxx-isystem /glob/development-tools/versions/oneapi/2021.2/inteloneapi/clck/2021.2.0/include -internal-isystem /glob/development-tools/versions/oneapi/2021.2/inteloneapi/compiler/2021.2.0/linux/bin/../compiler/include -internal-isystem /usr/lib/gcc/x86_64-linux-gnu/7.4.0/../../../../include/c++/7.4.0 -internal-isystem /usr/lib/gcc/x86_64-linux-gnu/7.4.0/../../../../include/x86_64-linux-gnu/c++/7.4.0 -internal-isystem /usr/lib/gcc/x86_64-linux-gnu/7.4.0/../../../../include/x86_64-linux-gnu/c++/7.4.0 -internal-isystem /usr/lib/gcc/x86_64-linux-gnu/7.4.0/../../../../include/c++/7.4.0/backward -internal-isystem /usr/lib/gcc/x86_64-linux-gnu/7.4.0/../../../../include/c++/7.4.0 -internal-isystem /usr/lib/gcc/x86_64-linux-gnu/7.4.0/../../../../include/x86_64-linux-gnu/c++/7.4.0 -internal-isystem /usr/lib/gcc/x86_64-linux-gnu/7.4.0/../../../../include/x86_64-linux-gnu/c++/7.4.0 -internal-isystem /usr/lib/gcc/x86_64-linux-gnu/7.4.0/../../../../include/c++/7.4.0/backward -internal-isystem /usr/local/include -internal-isystem /glob/development-tools/versions/oneapi/2021.2/inteloneapi/compiler/2021.2.0/linux/lib/clang/12.0.0/include -internal-externc-isystem /usr/include/x86_64-linux-gnu -internal-externc-isystem /include -internal-externc-isystem /usr/include -internal-isystem /usr/local/include -internal-isystem /glob/development-tools/versions/oneapi/2021.2/inteloneapi/compiler/2021.2.0/linux/lib/clang/12.0.0/include -internal-externc-isystem /usr/include/x86_64-linux-gnu -internal-externc-isystem /include -internal-externc-isystem /usr/include -O2 -Wall -Wextra -std=c++17 -fdeprecated-macro -fdebug-compilation-dir /home/u60374/q-over-pt -ferror-limit 19 -disable-cpudispatch-ifuncs -fheinous-gnu-extensions -fgnuc-version=4.2.1 -fcxx-exceptions -fexceptions -fcolor-diagnostics -fsycl-unnamed-lambda -D__ENABLE_USM_ADDR_SPACE__ -mllvm -disable-hir-generate-mkl-call -o /home/u60374/tmp/hough_transform-204cf3.bc -x c++ src/hough_transform.cpp\n",
      "clang -cc1 version 12.0.0 based upon LLVM 12.0.0git default target x86_64-unknown-linux-gnu\n",
      "ignoring nonexistent directory \"/include\"\n",
      "ignoring nonexistent directory \"/include\"\n",
      "ignoring duplicate directory \"/glob/development-tools/versions/oneapi/2021.2/inteloneapi/ipp/2021.2.0/include\"\n",
      "ignoring duplicate directory \"/glob/development-tools/versions/oneapi/2021.2/inteloneapi/vpl/2021.2.2/include\"\n",
      "ignoring duplicate directory \"/glob/development-tools/versions/oneapi/2021.2/inteloneapi/tbb/2021.2.0/env/../include\"\n",
      "ignoring duplicate directory \"/glob/development-tools/versions/oneapi/2021.2/inteloneapi/mpi/2021.2.0//include\"\n",
      "ignoring duplicate directory \"/glob/development-tools/versions/oneapi/2021.2/inteloneapi/mkl/latest/include\"\n",
      "ignoring duplicate directory \"/glob/development-tools/versions/oneapi/2021.2/inteloneapi/ipp/2021.2.0/include\"\n",
      "ignoring duplicate directory \"/glob/development-tools/versions/oneapi/2021.2/inteloneapi/ippcp/2021.2.0/include\"\n",
      "ignoring duplicate directory \"/glob/development-tools/versions/oneapi/2021.2/inteloneapi/ipp/2021.2.0/include\"\n",
      "ignoring duplicate directory \"/glob/development-tools/versions/oneapi/2021.2/inteloneapi/dpl/2021.2.0/linux/include\"\n",
      "ignoring duplicate directory \"/glob/development-tools/versions/oneapi/2021.2/inteloneapi/dpcpp-ct/2021.2.0/include\"\n",
      "ignoring duplicate directory \"/glob/development-tools/versions/oneapi/2021.2/inteloneapi/dnnl/2021.2.0/cpu_dpcpp_gpu_dpcpp/lib\"\n",
      "ignoring duplicate directory \"/glob/development-tools/versions/oneapi/2021.2/inteloneapi/dev-utilities/2021.2.0/include\"\n",
      "ignoring duplicate directory \"/glob/development-tools/versions/oneapi/2021.2/inteloneapi/dal/2021.2.0/include\"\n",
      "ignoring duplicate directory \"/glob/development-tools/versions/oneapi/2021.2/inteloneapi/compiler/2021.2.0/linux/include\"\n",
      "ignoring duplicate directory \"/glob/development-tools/versions/oneapi/2021.2/inteloneapi/ccl/2021.2.0/include/cpu_gpu_dpcpp\"\n",
      "ignoring duplicate directory \"/glob/development-tools/versions/oneapi/2021.2/inteloneapi/clck/2021.2.0/include\"\n",
      "ignoring duplicate directory \"/usr/lib/gcc/x86_64-linux-gnu/7.4.0/../../../../include/x86_64-linux-gnu/c++/7.4.0\"\n",
      "ignoring duplicate directory \"/usr/lib/gcc/x86_64-linux-gnu/7.4.0/../../../../include/c++/7.4.0\"\n",
      "ignoring duplicate directory \"/usr/lib/gcc/x86_64-linux-gnu/7.4.0/../../../../include/x86_64-linux-gnu/c++/7.4.0\"\n",
      "ignoring duplicate directory \"/usr/lib/gcc/x86_64-linux-gnu/7.4.0/../../../../include/x86_64-linux-gnu/c++/7.4.0\"\n",
      "ignoring duplicate directory \"/usr/lib/gcc/x86_64-linux-gnu/7.4.0/../../../../include/c++/7.4.0/backward\"\n",
      "ignoring duplicate directory \"/usr/local/include\"\n",
      "ignoring duplicate directory \"/glob/development-tools/versions/oneapi/2021.2/inteloneapi/compiler/2021.2.0/linux/lib/clang/12.0.0/include\"\n",
      "ignoring duplicate directory \"/usr/include/x86_64-linux-gnu\"\n",
      "ignoring duplicate directory \"/usr/include\"\n",
      "ignoring duplicate directory \"/usr/local/include\"\n",
      "ignoring duplicate directory \"/glob/development-tools/versions/oneapi/2021.2/inteloneapi/compiler/2021.2.0/linux/lib/clang/12.0.0/include\"\n",
      "ignoring duplicate directory \"/usr/include\"\n",
      "#include \"...\" search starts here:\n",
      "#include <...> search starts here:\n",
      " /glob/development-tools/versions/oneapi/2021.2/inteloneapi/vpl/2021.2.2/include\n",
      " /glob/development-tools/versions/oneapi/2021.2/inteloneapi/tbb/2021.2.0/env/../include\n",
      " /glob/development-tools/versions/oneapi/2021.2/inteloneapi/mpi/2021.2.0//include\n",
      " /glob/development-tools/versions/oneapi/2021.2/inteloneapi/mkl/latest/include\n",
      " /glob/development-tools/versions/oneapi/2021.2/inteloneapi/ipp/2021.2.0/include\n",
      " /glob/development-tools/versions/oneapi/2021.2/inteloneapi/ippcp/2021.2.0/include\n",
      " /glob/development-tools/versions/oneapi/2021.2/inteloneapi/dpl/2021.2.0/linux/include\n",
      " /glob/development-tools/versions/oneapi/2021.2/inteloneapi/dpcpp-ct/2021.2.0/include\n",
      " /glob/development-tools/versions/oneapi/2021.2/inteloneapi/dnnl/2021.2.0/cpu_dpcpp_gpu_dpcpp/lib\n",
      " /glob/development-tools/versions/oneapi/2021.2/inteloneapi/dev-utilities/2021.2.0/include\n",
      " /glob/development-tools/versions/oneapi/2021.2/inteloneapi/dal/2021.2.0/include\n",
      " /glob/development-tools/versions/oneapi/2021.2/inteloneapi/compiler/2021.2.0/linux/include\n",
      " /glob/development-tools/versions/oneapi/2021.2/inteloneapi/ccl/2021.2.0/include/cpu_gpu_dpcpp\n",
      " /glob/development-tools/versions/oneapi/2021.2/inteloneapi/clck/2021.2.0/include\n",
      " /glob/development-tools/versions/oneapi/2021.2/inteloneapi/compiler/2021.2.0/linux/bin/../include/sycl\n",
      " /glob/development-tools/versions/oneapi/2021.2/inteloneapi/compiler/2021.2.0/linux/bin/../compiler/include\n",
      " /usr/lib/gcc/x86_64-linux-gnu/7.4.0/../../../../include/c++/7.4.0\n",
      " /usr/lib/gcc/x86_64-linux-gnu/7.4.0/../../../../include/x86_64-linux-gnu/c++/7.4.0\n",
      " /usr/lib/gcc/x86_64-linux-gnu/7.4.0/../../../../include/c++/7.4.0/backward\n",
      " /usr/local/include\n",
      " /glob/development-tools/versions/oneapi/2021.2/inteloneapi/compiler/2021.2.0/linux/lib/clang/12.0.0/include\n",
      " /usr/include/x86_64-linux-gnu\n",
      " /usr/include\n",
      "End of search list.\n",
      "\u001b[1msrc/hough_transform.cpp:52:43: \u001b[0m\u001b[0;1;35mwarning: \u001b[0m\u001b[1munused variable 'idx' [-Wunused-variable]\u001b[0m\n",
      "   uint32_t left = 0, right = n, mid = 0, idx = 0;\n",
      "\u001b[0;1;32m                                          ^\n",
      "\u001b[0m\u001b[1msrc/hough_transform.cpp:162:3: \u001b[0m\u001b[0;1;35mwarning: \u001b[0m\u001b[1munused label 'std' [-Wunused-label]\u001b[0m\n",
      "  std:fill(accumulator, accumulator + ACC_SIZE, 0);\n",
      "\u001b[0;1;32m  ^~~~\n",
      "\u001b[0m\u001b[1msrc/hough_transform.cpp:167:9: \u001b[0m\u001b[0;1;35mwarning: \u001b[0m\u001b[1munused variable 'time_kernel' [-Wunused-variable]\u001b[0m\n",
      "  float time_kernel;\n",
      "\u001b[0;1;32m        ^\n",
      "\u001b[0m\u001b[1msrc/hough_transform.cpp:166:18: \u001b[0m\u001b[0;1;35mwarning: \u001b[0m\u001b[1munused variable 't1_kernel' [-Wunused-variable]\u001b[0m\n",
      "  sycl::cl_ulong t1_kernel, t2_kernel;\n",
      "\u001b[0;1;32m                 ^\n",
      "\u001b[0m\u001b[1msrc/hough_transform.cpp:166:29: \u001b[0m\u001b[0;1;35mwarning: \u001b[0m\u001b[1munused variable 't2_kernel' [-Wunused-variable]\u001b[0m\n",
      "  sycl::cl_ulong t1_kernel, t2_kernel;\n",
      "\u001b[0;1;32m                            ^\n",
      "\u001b[0m\u001b[1msrc/hough_transform.cpp:164:54: \u001b[0m\u001b[0;1;35mwarning: \u001b[0m\u001b[1munused variable 't2_host' [-Wunused-variable]\u001b[0m\n",
      "  chrono::high_resolution_clock::time_point t1_host, t2_host;\n",
      "\u001b[0;1;32m                                                     ^\n",
      "\u001b[0m\u001b[1msrc/hough_transform.cpp:164:45: \u001b[0m\u001b[0;1;35mwarning: \u001b[0m\u001b[1munused variable 't1_host' [-Wunused-variable]\u001b[0m\n",
      "  chrono::high_resolution_clock::time_point t1_host, t2_host;\n",
      "\u001b[0;1;32m                                            ^\n",
      "\u001b[0m\u001b[1msrc/hough_transform.cpp:18:24: \u001b[0m\u001b[0;1;35mwarning: \u001b[0m\u001b[1munused variable 'B' [-Wunused-const-variable]\u001b[0m\n",
      "static constexpr float B = 2.0;\n",
      "\u001b[0;1;32m                       ^\n",
      "\u001b[0m8 warnings generated.\n",
      " \"/glob/development-tools/versions/oneapi/2021.2/inteloneapi/compiler/2021.2.0/linux/bin/llvm-link\" /home/u60374/tmp/hough_transform-204cf3.bc -o /home/u60374/tmp/hough_transform-be1d95.bc --suppress-warnings\n",
      " \"/glob/development-tools/versions/oneapi/2021.2/inteloneapi/compiler/2021.2.0/linux/bin/clang-offload-bundler\" -type=o -targets=sycl-spir64_fpga-unknown-unknown-sycldevice -inputs=/glob/development-tools/versions/oneapi/2021.2/inteloneapi/compiler/2021.2.0/linux/bin/../lib/libsycl-crt.o -outputs=/home/u60374/tmp/libsycl-crt-8983ad.o -unbundle -allow-missing-bundles\n",
      " \"/glob/development-tools/versions/oneapi/2021.2/inteloneapi/compiler/2021.2.0/linux/bin/clang-offload-bundler\" -type=o -targets=sycl-spir64_fpga-unknown-unknown-sycldevice -inputs=/glob/development-tools/versions/oneapi/2021.2/inteloneapi/compiler/2021.2.0/linux/bin/../lib/libsycl-complex.o -outputs=/home/u60374/tmp/libsycl-complex-8020bc.o -unbundle -allow-missing-bundles\n",
      " \"/glob/development-tools/versions/oneapi/2021.2/inteloneapi/compiler/2021.2.0/linux/bin/clang-offload-bundler\" -type=o -targets=sycl-spir64_fpga-unknown-unknown-sycldevice -inputs=/glob/development-tools/versions/oneapi/2021.2/inteloneapi/compiler/2021.2.0/linux/bin/../lib/libsycl-complex-fp64.o -outputs=/home/u60374/tmp/libsycl-complex-fp64-9dcdab.o -unbundle -allow-missing-bundles\n",
      " \"/glob/development-tools/versions/oneapi/2021.2/inteloneapi/compiler/2021.2.0/linux/bin/clang-offload-bundler\" -type=o -targets=sycl-spir64_fpga-unknown-unknown-sycldevice -inputs=/glob/development-tools/versions/oneapi/2021.2/inteloneapi/compiler/2021.2.0/linux/bin/../lib/libsycl-cmath.o -outputs=/home/u60374/tmp/libsycl-cmath-0e7e75.o -unbundle -allow-missing-bundles\n",
      " \"/glob/development-tools/versions/oneapi/2021.2/inteloneapi/compiler/2021.2.0/linux/bin/clang-offload-bundler\" -type=o -targets=sycl-spir64_fpga-unknown-unknown-sycldevice -inputs=/glob/development-tools/versions/oneapi/2021.2/inteloneapi/compiler/2021.2.0/linux/bin/../lib/libsycl-cmath-fp64.o -outputs=/home/u60374/tmp/libsycl-cmath-fp64-2234fd.o -unbundle -allow-missing-bundles\n",
      " \"/glob/development-tools/versions/oneapi/2021.2/inteloneapi/compiler/2021.2.0/linux/bin/clang-offload-bundler\" -type=o -targets=sycl-spir64_fpga-unknown-unknown-sycldevice -inputs=/glob/development-tools/versions/oneapi/2021.2/inteloneapi/compiler/2021.2.0/linux/bin/../lib/libsycl-fallback-cassert.o -outputs=/home/u60374/tmp/libsycl-fallback-cassert-9762a0.o -unbundle -allow-missing-bundles\n",
      " \"/glob/development-tools/versions/oneapi/2021.2/inteloneapi/compiler/2021.2.0/linux/bin/clang-offload-bundler\" -type=o -targets=sycl-spir64_fpga-unknown-unknown-sycldevice -inputs=/glob/development-tools/versions/oneapi/2021.2/inteloneapi/compiler/2021.2.0/linux/bin/../lib/libsycl-fallback-complex.o -outputs=/home/u60374/tmp/libsycl-fallback-complex-f2023b.o -unbundle -allow-missing-bundles\n",
      " \"/glob/development-tools/versions/oneapi/2021.2/inteloneapi/compiler/2021.2.0/linux/bin/clang-offload-bundler\" -type=o -targets=sycl-spir64_fpga-unknown-unknown-sycldevice -inputs=/glob/development-tools/versions/oneapi/2021.2/inteloneapi/compiler/2021.2.0/linux/bin/../lib/libsycl-fallback-complex-fp64.o -outputs=/home/u60374/tmp/libsycl-fallback-complex-fp64-ec9a93.o -unbundle -allow-missing-bundles\n",
      " \"/glob/development-tools/versions/oneapi/2021.2/inteloneapi/compiler/2021.2.0/linux/bin/clang-offload-bundler\" -type=o -targets=sycl-spir64_fpga-unknown-unknown-sycldevice -inputs=/glob/development-tools/versions/oneapi/2021.2/inteloneapi/compiler/2021.2.0/linux/bin/../lib/libsycl-fallback-cmath.o -outputs=/home/u60374/tmp/libsycl-fallback-cmath-591d78.o -unbundle -allow-missing-bundles\n",
      " \"/glob/development-tools/versions/oneapi/2021.2/inteloneapi/compiler/2021.2.0/linux/bin/clang-offload-bundler\" -type=o -targets=sycl-spir64_fpga-unknown-unknown-sycldevice -inputs=/glob/development-tools/versions/oneapi/2021.2/inteloneapi/compiler/2021.2.0/linux/bin/../lib/libsycl-fallback-cmath-fp64.o -outputs=/home/u60374/tmp/libsycl-fallback-cmath-fp64-29a6d9.o -unbundle -allow-missing-bundles\n",
      " \"/glob/development-tools/versions/oneapi/2021.2/inteloneapi/compiler/2021.2.0/linux/bin/llvm-link\" -only-needed /home/u60374/tmp/hough_transform-be1d95.bc /home/u60374/tmp/libsycl-crt-8983ad.o /home/u60374/tmp/libsycl-complex-8020bc.o /home/u60374/tmp/libsycl-complex-fp64-9dcdab.o /home/u60374/tmp/libsycl-cmath-0e7e75.o /home/u60374/tmp/libsycl-cmath-fp64-2234fd.o /home/u60374/tmp/libsycl-fallback-cassert-9762a0.o /home/u60374/tmp/libsycl-fallback-complex-f2023b.o /home/u60374/tmp/libsycl-fallback-complex-fp64-ec9a93.o /home/u60374/tmp/libsycl-fallback-cmath-591d78.o /home/u60374/tmp/libsycl-fallback-cmath-fp64-29a6d9.o -o /home/u60374/tmp/hough_transform-37099b.bc --suppress-warnings\n",
      " \"/glob/development-tools/versions/oneapi/2021.2/inteloneapi/compiler/2021.2.0/linux/bin/sycl-post-link\" -split=auto -ir-output-only -spec-const=default -o /home/u60374/tmp/hough_transform-98d9a0.bc /home/u60374/tmp/hough_transform-37099b.bc\n",
      " \"/glob/development-tools/versions/oneapi/2021.2/inteloneapi/compiler/2021.2.0/linux/bin/llvm-spirv\" -o /home/u60374/tmp/hough_transform-58ce25.spv -spirv-max-version=1.1 -spirv-debug-info-version=legacy -spirv-allow-extra-diexpressions -spirv-ext=+all,-SPV_INTEL_usm_storage_classes /home/u60374/tmp/hough_transform-98d9a0.bc\n",
      " \"/glob/development-tools/versions/oneapi/2021.2/inteloneapi/compiler/2021.2.0/linux/lib/oclfpga/bin/aoc\" -o /home/u60374/tmp/hough_transform-18e255.aocx /home/u60374/tmp/hough_transform-58ce25.spv -sycl -output-report-folder=bin/HoughTransform.prj -g\n",
      "Error: Compiler Error: OpenCL kernel compile/link FAILED\n",
      "dpcpp: \u001b[0;1;31merror: \u001b[0m\u001b[1mfpga compiler command failed with exit code 1 (use -v to see invocation)\u001b[0m\n"
     ]
    }
   ],
   "source": [
    "! dpcpp -fintelfpga src/hough_transform.cpp -o bin/HoughTransform.emu -Wall -Wextra"
   ]
  },
  {
   "cell_type": "markdown",
   "metadata": {},
   "source": [
    "# GENERATE RAPORT"
   ]
  },
  {
   "cell_type": "code",
   "execution_count": 117,
   "metadata": {},
   "outputs": [
    {
     "name": "stdout",
     "output_type": "stream",
     "text": [
      "aoc: Warning: Cannot find dependency file \"/home/u60374/tmp/hough_transform-dd0bef.d\" for source file \"/home/u60374/tmp/hough_transform-dd0bef.spv\". Source code will not be available in the HLD Reports. Ensure you ran dpcpp with the -fintelfpga flag.\n",
      "^C\n"
     ]
    }
   ],
   "source": [
    "! dpcpp -fintelfpga -fsycl-link -Xshardware src/hough_transform.cpp -o bin/HoughTransformReport.a"
   ]
  },
  {
   "cell_type": "markdown",
   "metadata": {},
   "source": [
    "# EXECUTING"
   ]
  },
  {
   "cell_type": "code",
   "execution_count": 3,
   "metadata": {},
   "outputs": [
    {
     "name": "stdout",
     "output_type": "stream",
     "text": [
      "Platform: Intel(R) FPGA Emulation Platform for OpenCL(TM)\n",
      "Device: Intel(R) FPGA Emulation Device\n",
      "0 0 0 0 0 0 0 0 0 0 0 0 0 0 0 0 0 0 0 0 \n",
      "0 0 0 0 0 0 0 0 0 0 0 0 0 0 0 0 0 0 0 0 \n",
      "0 0 0 0 0 0 0 0 0 0 0 0 0 0 0 0 0 0 0 0 \n",
      "0 0 0 0 0 0 0 0 0 0 0 0 0 0 0 0 0 0 0 0 \n",
      "0 0 0 0 0 3 3 3 3 3 3 3 3 3 3 3 3 3 3 3 \n",
      "6 6 6 6 6 8 5 5 6 6 8 10 11 11 18 18 18 18 18 18 \n",
      "14 14 17 17 18 18 19 19 20 20 20 18 18 18 18 12 12 12 14 16 \n",
      "19 19 19 18 18 17 17 14 14 13 12 12 12 10 9 9 8 8 8 6 \n",
      "4 3 2 2 0 0 0 0 0 0 0 0 0 1 1 1 1 1 3 3 \n",
      "4 5 5 5 5 6 7 7 7 7 7 7 7 7 6 6 6 6 6 4 \n",
      "4 3 2 2 2 2 1 0 0 0 0 2 4 4 6 6 6 6 6 6 \n",
      "7 7 7 7 7 7 7 7 7 7 7 8 7 5 5 3 3 3 3 3 \n",
      "2 2 2 2 2 2 2 2 2 4 4 4 3 2 2 2 4 6 9 9 \n",
      "7 8 8 9 9 9 9 9 9 9 7 7 7 7 7 7 9 9 9 7 \n",
      "9 9 11 11 10 11 12 12 12 13 13 17 17 17 17 17 17 15 13 11 \n",
      "10 10 10 7 7 7 6 5 5 5 4 4 0 0 0 0 0 0 0 0 \n",
      "0 0 0 0 0 0 0 0 0 0 0 0 0 0 0 1 1 4 4 4 \n",
      "0 2 4 4 4 9 9 9 9 9 9 9 9 9 9 9 8 8 5 5 \n",
      "9 9 7 5 5 5 0 0 0 0 0 0 0 0 0 0 0 0 0 1 \n",
      "1 1 1 1 1 2 2 3 3 4 7 8 9 11 14 15 15 15 15 18 \n",
      "22 23 24 24 24 24 23 23 22 25 24 21 20 19 17 14 13 14 15 16 \n",
      "7 5 4 3 7 7 7 7 7 7 4 4 4 4 4 8 8 8 7 6 \n",
      "6 6 9 10 10 7 7 9 9 9 9 9 9 11 11 12 8 9 9 9 \n",
      "16 15 15 12 11 11 12 13 11 11 11 11 11 11 9 9 8 8 7 7 \n",
      "5 3 3 3 3 3 3 1 0 0 0 0 0 0 0 0 0 0 0 0 \n",
      "0 0 0 0 0 0 0 0 0 0 0 0 2 3 3 3 6 6 6 7 \n",
      "9 9 9 9 9 9 9 9 9 9 9 9 9 7 6 6 6 3 3 4 \n",
      "3 0 0 0 2 2 2 2 2 2 2 2 2 7 9 9 9 9 9 9 \n",
      "8 9 12 12 12 10 10 11 13 13 13 13 13 13 8 6 6 8 8 8 \n",
      "11 11 10 7 7 7 7 7 6 4 4 4 4 4 4 4 4 4 2 2 \n",
      "0 0 0 0 0 0 0 0 0 0 0 0 0 0 0 0 0 0 0 0 \n",
      "0 0 0 0 0 0 0 0 0 0 0 0 0 0 0 0 0 0 0 0 \n",
      "0 0 0 0 0 0 1 3 3 3 7 8 9 9 9 9 9 9 9 9 \n",
      "9 9 9 9 9 9 9 8 8 11 11 7 7 6 6 6 6 6 6 6 \n",
      "8 8 8 8 8 8 8 8 8 6 3 3 3 2 2 2 2 2 2 2 \n",
      "0 0 0 0 0 0 0 0 0 0 0 0 0 0 0 0 0 0 0 0 \n",
      "0 0 0 0 0 0 0 0 0 0 0 0 0 0 0 0 0 0 0 0 \n",
      "0 0 0 0 0 0 0 0 0 0 0 0 0 0 0 0 0 0 0 0 \n",
      "0 0 0 0 0 0 0 0 0 0 0 0 0 0 0 0 0 0 0 0 \n",
      "0 0 0 0 0 0 0 0 0 0 0 0 0 0 0 0 0 0 0 0 \n"
     ]
    }
   ],
   "source": [
    "! bin/HoughTransformReport.emu"
   ]
  },
  {
   "cell_type": "code",
   "execution_count": null,
   "metadata": {},
   "outputs": [],
   "source": []
  },
  {
   "cell_type": "code",
   "execution_count": 88,
   "metadata": {},
   "outputs": [
    {
     "name": "stdout",
     "output_type": "stream",
     "text": [
      "dpcpp -std=c++17 -fintelfpga -fsycl-link -Xshardware -I include -I libs/json/single_include -lboost_program_options src/*.cpp -o bin/report.a\n",
      "aoc: Warning RAM Utilization is at 101%!\n"
     ]
    }
   ],
   "source": [
    "! make report"
   ]
  },
  {
   "cell_type": "code",
   "execution_count": null,
   "metadata": {},
   "outputs": [],
   "source": []
  }
 ],
 "metadata": {
  "kernelspec": {
   "display_name": "Python 3.7 (Intel® oneAPI)",
   "language": "python",
   "name": "c009-intel_distribution_of_python_3_oneapi-beta05-python"
  },
  "language_info": {
   "codemirror_mode": {
    "name": "ipython",
    "version": 3
   },
   "file_extension": ".py",
   "mimetype": "text/x-python",
   "name": "python",
   "nbconvert_exporter": "python",
   "pygments_lexer": "ipython3",
   "version": "3.7.9"
  }
 },
 "nbformat": 4,
 "nbformat_minor": 4
}
